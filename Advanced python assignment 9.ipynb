{
 "cells": [
  {
   "cell_type": "code",
   "execution_count": null,
   "metadata": {},
   "outputs": [],
   "source": [
    "Q1. In Python 3.X, what are the names and functions of string object types?"
   ]
  },
  {
   "cell_type": "code",
   "execution_count": null,
   "metadata": {},
   "outputs": [],
   "source": [
    "Textual data in Python is handled with str objects, or strings. Strings are immutable sequences of Unicode\\\n",
    "code points. String literals are written in a variety of ways:\n",
    "\n",
    "Single quotes: 'allows embedded \"double\" quotes'\n",
    "\n",
    "Double quotes: \"allows embedded 'single' quotes\".\n",
    "\n",
    "Triple quoted: '''Three single quotes''', \"\"\"Three double quotes\"\"\"\n",
    "Strings may also be created from other objects using the str constructor.\n",
    "\n",
    "Since there is no separate “character” type, indexing a string produces strings of length 1. That is, for a non-empty string s, \n",
    "s[0] == s[0:1].\n",
    "\n",
    "There is also no mutable string type, but str.join() or io.StringIO can be used to efficiently construct \n",
    "strings from multiple fragments."
   ]
  },
  {
   "cell_type": "code",
   "execution_count": null,
   "metadata": {},
   "outputs": [],
   "source": [
    "class str(object='')\n",
    "If neither encoding nor errors is given, str(object) returns object.__str__(), which is the “informal” \n",
    "string representation of object. For string objects, this is the string itself. If object does not have \n",
    "a __str__() method, then str() falls back to returning repr(object)."
   ]
  },
  {
   "cell_type": "code",
   "execution_count": null,
   "metadata": {},
   "outputs": [],
   "source": [
    "str.center(width[, fillchar])\n",
    "Return centered in a string of length width. Padding is done using the specified fillchar \n",
    "(default is an ASCII space). The original string is returned if width is less than or equal to len(s).\n",
    "\n",
    "str.count(sub[, start[, end]])\n",
    "Return the number of non-overlapping occurrences of substring sub in the range [start, end]. \n",
    "Optional arguments start and end are interpreted as in slice notation."
   ]
  },
  {
   "cell_type": "code",
   "execution_count": null,
   "metadata": {},
   "outputs": [],
   "source": [
    "Q2. How do the string forms in Python 3.X vary in terms of operations?"
   ]
  },
  {
   "cell_type": "code",
   "execution_count": null,
   "metadata": {},
   "outputs": [],
   "source": [
    "Unicode Strings: Python 3 stores strings as Unicode by default, whereas Python 2 requires you to mark a \n",
    "string with a “u” if you want to store it as Unicode. Unicode strings are more versatile than ASCII \n",
    "strings, which are the Python 2 default, as they can store letters from foreign languages as well as\n",
    "emoji and the standard Roman letters and numerals. You can still label your Unicode strings with a \n",
    "“u” if you want to make sure your Python 3 code is compatible with Python 2."
   ]
  },
  {
   "cell_type": "code",
   "execution_count": null,
   "metadata": {},
   "outputs": [],
   "source": [
    "Q3. In 3.X, how do you put non-ASCII Unicode characters in a string?"
   ]
  },
  {
   "cell_type": "code",
   "execution_count": null,
   "metadata": {},
   "outputs": [],
   "source": [
    "Unicode is an abstract encoding standard, not an encoding.UTF-8 is actual encoding scheme.\n",
    "By default, Python source files are treated as encoded in UTF-8. In that encoding, characters of most\n",
    "languages in the world can be used simultaneously in string literals, identifiers and comments — although\n",
    "the standard library only uses ASCII characters for identifiers, a convention that any portable code\n",
    "should follow. To display all these characters properly, your editor must recognize that the file is UTF-8,\n",
    "and it must use a font that supports all the characters in the file."
   ]
  },
  {
   "cell_type": "code",
   "execution_count": null,
   "metadata": {},
   "outputs": [],
   "source": [
    "Since Python 3.0, the language’s str type contains Unicode characters, meaning any string created using \n",
    "\"unicode rocks!\", 'unicode rocks!', or the triple-quoted string syntax is stored as Unicode.\n",
    "\n",
    "The default encoding for Python source code is UTF-8, so you can simply include a Unicode character in a \n",
    "string literal:"
   ]
  },
  {
   "cell_type": "code",
   "execution_count": null,
   "metadata": {},
   "outputs": [],
   "source": [
    "All text (str) is Unicode by default. Encoded Unicode text is represented as binary data (bytes). \n",
    "The str type can contain any literal Unicode character, such as \"Δv / Δt\", all of which will be stored \n",
    "as Unicode.The default encoding in str.encode() and bytes.decode() is UTF-8."
   ]
  },
  {
   "cell_type": "code",
   "execution_count": 2,
   "metadata": {},
   "outputs": [
    {
     "name": "stdout",
     "output_type": "stream",
     "text": [
      "6 918 417 712\n"
     ]
    }
   ],
   "source": [
    "s = b'6\\xc2\\xa0918\\xc2\\xa0417\\xc2\\xa0712'\n",
    "u = s.decode('utf8') # correctly decoded\n",
    "print(u)"
   ]
  },
  {
   "cell_type": "code",
   "execution_count": null,
   "metadata": {},
   "outputs": [],
   "source": [
    "Q4. In Python 3.X, what are the key differences between text-mode and binary-mode files?"
   ]
  },
  {
   "cell_type": "code",
   "execution_count": null,
   "metadata": {},
   "outputs": [],
   "source": [
    "The open() function opens a file in text format by default. To open a file in binary format, add 'b' to the\n",
    "mode parameter. Hence the \"rb\" mode opens the file in binary format for reading, while the \"wb\" mode opens\n",
    "the file in binary format for writing. Unlike text files, binary files are not human-readable. When opened\n",
    "using any text editor, the data is unrecognizable."
   ]
  },
  {
   "cell_type": "code",
   "execution_count": null,
   "metadata": {},
   "outputs": [],
   "source": [
    "          Text data                                                 Binary data\n",
    "Bits represent character.                                Bits represent a custom data.\n",
    "\n",
    "Less prone to get corrupt as changes reflect            Can easily get corrupted, even a single bit change\n",
    "as soon as the file is opened and can easily            may corrupt the file.\n",
    "be undone.\n",
    "\n",
    "Can store only plain text in a file.                    Can store different types of data (image, audio, \n",
    "                                                        text) in a single file.\n",
    "Widely used file format and can be opened using         Developed especially for an application and may not \n",
    "any simple text editor.                                 be understood by other applications.\n",
    "\n",
    "Mostly .txt and .rtf are used as extensions to text     Can have any application defined extension.\n",
    "files.\n",
    "\t\n",
    "\t"
   ]
  },
  {
   "cell_type": "code",
   "execution_count": null,
   "metadata": {},
   "outputs": [],
   "source": [
    "Q5. How can you interpret a Unicode text file containing text encoded in a different encoding than\n",
    "your platform default?"
   ]
  },
  {
   "cell_type": "code",
   "execution_count": 10,
   "metadata": {},
   "outputs": [
    {
     "name": "stdout",
     "output_type": "stream",
     "text": [
      "b'\\xe2\\x81\\x88\\x89\\x93|n' b'\\x00S\\x00a\\x00h\\x00i\\x00l\\x00@\\x00>'\n"
     ]
    }
   ],
   "source": [
    "s='Sahil@>'\n",
    "s_encoded=s.encode(encoding='cp037',errors='strict')\n",
    "s_encoded2=s.encode(encoding='utf_16_be',errors='strict')\n",
    "print(s_encoded,s_encoded2)"
   ]
  },
  {
   "cell_type": "code",
   "execution_count": null,
   "metadata": {},
   "outputs": [],
   "source": [
    "Here in place of 'cp037' or 'utf_16_be'  we put  different encoding name which is used."
   ]
  },
  {
   "cell_type": "code",
   "execution_count": null,
   "metadata": {},
   "outputs": [],
   "source": [
    "For decoding text file other than default we can use"
   ]
  },
  {
   "cell_type": "code",
   "execution_count": 13,
   "metadata": {},
   "outputs": [
    {
     "name": "stdout",
     "output_type": "stream",
     "text": [
      "Sahil@> Sahil@>\n"
     ]
    }
   ],
   "source": [
    "\n",
    "s_decoded=s_encoded.decode('cp037')\n",
    "s2_decoded=s_encoded2.decode('utf_16_be')\n",
    "print(s_decoded,s2_decoded)"
   ]
  },
  {
   "cell_type": "code",
   "execution_count": null,
   "metadata": {},
   "outputs": [],
   "source": [
    "Q6. What is the best way to make a Unicode text file in a particular encoding format?"
   ]
  },
  {
   "cell_type": "code",
   "execution_count": null,
   "metadata": {},
   "outputs": [],
   "source": [
    "s='Sahil@>'\n",
    "s_encoded=s.encode(encoding='cp037',errors='strict')\n",
    "Here in place of 'cp037'   we put  particular encoding name which we want."
   ]
  },
  {
   "cell_type": "code",
   "execution_count": null,
   "metadata": {},
   "outputs": [],
   "source": [
    "Q7. What qualifies ASCII text as a form of Unicode text?"
   ]
  },
  {
   "cell_type": "code",
   "execution_count": 14,
   "metadata": {},
   "outputs": [
    {
     "data": {
      "text/plain": [
       "b'ascii characters'"
      ]
     },
     "execution_count": 14,
     "metadata": {},
     "output_type": "execute_result"
    }
   ],
   "source": [
    "string='ascii characters'\n",
    "encoded_string=string.encode(\"utf-8\")\n",
    "encoded_string"
   ]
  },
  {
   "cell_type": "code",
   "execution_count": null,
   "metadata": {},
   "outputs": [],
   "source": [
    "Here in place of ascii characters we can put ascii text to convert it to utf-8 which is default in\n",
    "python 3."
   ]
  },
  {
   "cell_type": "code",
   "execution_count": null,
   "metadata": {},
   "outputs": [],
   "source": [
    "Q8. How much of an effect does the change in string types in Python 3.X have on your code?"
   ]
  },
  {
   "cell_type": "code",
   "execution_count": 17,
   "metadata": {},
   "outputs": [
    {
     "ename": "SyntaxError",
     "evalue": "Missing parentheses in call to 'print'. Did you mean print('Hello, you')? (<ipython-input-17-65e8629d9ef7>, line 2)",
     "output_type": "error",
     "traceback": [
      "\u001b[1;36m  File \u001b[1;32m\"<ipython-input-17-65e8629d9ef7>\"\u001b[1;36m, line \u001b[1;32m2\u001b[0m\n\u001b[1;33m    print 'Hello, you'\u001b[0m\n\u001b[1;37m          ^\u001b[0m\n\u001b[1;31mSyntaxError\u001b[0m\u001b[1;31m:\u001b[0m Missing parentheses in call to 'print'. Did you mean print('Hello, you')?\n"
     ]
    }
   ],
   "source": [
    "print 'Hello, you' \n",
    "print('Hello, you')     "
   ]
  },
  {
   "cell_type": "code",
   "execution_count": null,
   "metadata": {},
   "outputs": [],
   "source": [
    "First statment works in python 2 but not in python 3,python 3 requires parentheses."
   ]
  },
  {
   "cell_type": "code",
   "execution_count": null,
   "metadata": {},
   "outputs": [],
   "source": [
    "In Python 2, an implicit str type is ASCII. But in Python 3.x implicit str type is Unicode. "
   ]
  },
  {
   "cell_type": "code",
   "execution_count": 18,
   "metadata": {},
   "outputs": [
    {
     "name": "stdout",
     "output_type": "stream",
     "text": [
      "<class 'str'>\n",
      "<class 'bytes'>\n"
     ]
    }
   ],
   "source": [
    "print(type('default string ')) \n",
    " \n",
    "print(type(b'string with b ')) "
   ]
  },
  {
   "cell_type": "code",
   "execution_count": null,
   "metadata": {},
   "outputs": [],
   "source": [
    "In python 2 bytes will be same as str"
   ]
  },
  {
   "cell_type": "code",
   "execution_count": 19,
   "metadata": {},
   "outputs": [
    {
     "name": "stdout",
     "output_type": "stream",
     "text": [
      "<class 'str'>\n",
      "<class 'str'>\n"
     ]
    }
   ],
   "source": [
    "print(type('default string ')) \n",
    " \n",
    "print(type(u'string with b ')) "
   ]
  },
  {
   "cell_type": "code",
   "execution_count": null,
   "metadata": {},
   "outputs": [],
   "source": [
    "In python 2 second statement will give output unicode as str and  unicode is different in python 2"
   ]
  }
 ],
 "metadata": {
  "kernelspec": {
   "display_name": "Python 3",
   "language": "python",
   "name": "python3"
  },
  "language_info": {
   "codemirror_mode": {
    "name": "ipython",
    "version": 3
   },
   "file_extension": ".py",
   "mimetype": "text/x-python",
   "name": "python",
   "nbconvert_exporter": "python",
   "pygments_lexer": "ipython3",
   "version": "3.8.3"
  }
 },
 "nbformat": 4,
 "nbformat_minor": 4
}
